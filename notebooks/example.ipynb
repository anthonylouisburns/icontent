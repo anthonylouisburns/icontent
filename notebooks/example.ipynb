{
 "cells": [
  {
   "cell_type": "markdown",
   "metadata": {},
   "source": [
    "css=/css/home.css\n",
    "\n",
    "sideleft=sideleft.html\n",
    "\n",
    "config_script=/notebooks/static/config2.py\n",
    "\n",
    "links=[[\"Anthony Louis Burns\", \"http://www.anthonylouisburns.com\", \"pad0\"], [\"IContent\", \"http://www.anthonylouisburns.com/icontent/IContent.html\", \"pad0\"], [\"IContent - github\", \"https://github.com/anthonylouisburns/icontent/\", \"pad0\"], [\"Anthony Louis Burn - LinkedIn\", \"https://www.linkedin.com/in/anthonylouisburns\", \"pad0\"]]"
   ]
  },
  {
   "cell_type": "code",
   "execution_count": 5,
   "metadata": {
    "collapsed": false
   },
   "outputs": [
    {
     "data": {
      "text/plain": [
       "13"
      ]
     },
     "execution_count": 5,
     "metadata": {},
     "output_type": "execute_result"
    }
   ],
   "source": [
    "#hello\n",
    "2+2+9"
   ]
  },
  {
   "cell_type": "code",
   "execution_count": 1,
   "metadata": {
    "collapsed": true
   },
   "outputs": [],
   "source": [
    "#https://github.com/ipython/nbconvert-examples"
   ]
  },
  {
   "cell_type": "code",
   "execution_count": null,
   "metadata": {
    "collapsed": true
   },
   "outputs": [],
   "source": []
  }
 ],
 "metadata": {
  "kernelspec": {
   "display_name": "IPython (Python 3)",
   "name": "python3"
  },
  "language_info": {
   "codemirror_mode": {
    "name": "ipython",
    "version": 3
   },
   "file_extension": ".py",
   "mimetype": "text/x-python",
   "name": "python",
   "nbconvert_exporter": "python",
   "pygments_lexer": "ipython3",
   "version": "3.4.0"
  }
 },
 "nbformat": 4,
 "nbformat_minor": 0
}