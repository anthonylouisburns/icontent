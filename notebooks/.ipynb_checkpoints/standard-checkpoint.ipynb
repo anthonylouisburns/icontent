{
 "cells": [
  {
   "cell_type": "markdown",
   "metadata": {},
   "source": [
    "**The following settings can be set in any Markdown cell in your notebook.**\n",
    "\n",
    "**They can also occur in a Markdown comment. Each setting should be on a seperate line**\n",
    "\n",
    "template=/notebooks/static/icontent.tpl\n",
    "\n",
    "css=/css/home.css\n",
    "\n",
    "sideleft=sideleft.html\n",
    "\n",
    "links=[[\"Anthony Louis Burns\", \"/\", \"pad0\"], [\"IContent\", \"/icontent/IContent.html\", \"pad0\"], [\"standard\", \"/icontent/standard.html\", \"pad1\"], [\"Brazil\", \"/icontent/Brazil.html\", \"pad1\"], [\"Belguim\", \"/icontent/Belgium.html\", \"pad1\"], [\"Bahamas\", \"/icontent/Bahamas.html\", \"pad1\"], [\"obnoxious\", \"/icontent/obnoxious.html\", \"pad1\"], [\"IContent - github\", \"/icontent\", \"pad0\"], [\"Anthony Louis Burn - LinkedIn\", \"https://www.linkedin.com/in/anthonylouisburns\", \"pad0\"], [\"anthonylouisburns@gmail.com\", \"anthonylouisburns@gmail.com\", \"pad0\"]]"
   ]
  },
  {
   "cell_type": "code",
   "execution_count": 5,
   "metadata": {
    "collapsed": true
   },
   "outputs": [],
   "source": [
    "from IPython.display import Markdown\n",
    "\n",
    "def code(file, code):   \n",
    "    return Markdown(\"```\"+code+\" \\n\" + ''.join((open(file, \"r\").readlines())) + \"```\")"
   ]
  },
  {
   "cell_type": "code",
   "execution_count": 9,
   "metadata": {
    "collapsed": false
   },
   "outputs": [
    {
     "data": {
      "text/markdown": [
       "```css \n",
       "#sideleft {\n",
       "    float: left;\n",
       "    width: 15%;\n",
       "    min-height: 100%;\n",
       "    text-align: left;\n",
       "    padding:30px;\n",
       "    box-sizing: border-box;\n",
       "    -webkit-box-shadow: 0px 0px 12px 5px rgba(87, 87, 87, 0.2);\n",
       "    padding-top: 20px;\n",
       "    padding-bottom: 20px;\n",
       "}\n",
       "\n",
       "#main\n",
       "{\n",
       "    float: right;\n",
       "    text-align: left;\n",
       "    width: 70%;\n",
       "    margin-right: 15%;\n",
       "}\n",
       "#pad0\n",
       "{\n",
       "    padding: 10px;\n",
       "}\n",
       "#pad1\n",
       "{\n",
       "    text-indent: 20px;\n",
       "}\n",
       "body{\n",
       "}\n",
       "#notebook-container{\n",
       "}\n",
       "#sideleft a {\n",
       "    text-decoration: underline;\n",
       "}\n",
       "div.text_cell_render {\n",
       "\n",
       "}```"
      ],
      "text/plain": [
       "<IPython.core.display.Markdown object>"
      ]
     },
     "execution_count": 9,
     "metadata": {},
     "output_type": "execute_result"
    }
   ],
   "source": [
    "code(\"/notebooks/icontent/css/home.css\",\"css\")"
   ]
  },
  {
   "cell_type": "code",
   "execution_count": 7,
   "metadata": {
    "collapsed": false
   },
   "outputs": [
    {
     "data": {
      "text/markdown": [
       "```smarty \n",
       "{#\n",
       "i found this very useful\n",
       "https://realpython.com/blog/python/primer-on-jinja-templating/\n",
       "\n",
       "these templates are jinja templates\n",
       "http://jinja.pocoo.org/docs/dev/api/#basics\n",
       "#}\n",
       "\n",
       "{%- extends 'full.tpl' -%}\n",
       "{% block body %}\n",
       " </div>\n",
       "\n",
       "<link rel=\"stylesheet\" href=\"{{ resources.css }}\">\n",
       "{% include resources.sideleft ignore missing%}\n",
       "<div id=\"main\">\n",
       "{{ super() }}\n",
       "</div>\n",
       "{%- endblock body %}```"
      ],
      "text/plain": [
       "<IPython.core.display.Markdown object>"
      ]
     },
     "execution_count": 7,
     "metadata": {},
     "output_type": "execute_result"
    }
   ],
   "source": [
    "code(\"/notebooks/static/icontent.tpl\",\"smarty\")"
   ]
  },
  {
   "cell_type": "code",
   "execution_count": 8,
   "metadata": {
    "collapsed": false
   },
   "outputs": [
    {
     "data": {
      "text/markdown": [
       "```html \n",
       "<div id=\"sideleft\">\n",
       "    {% for link in resources.links -%}\n",
       "    <p id=\"{{ link.2 }}\">\n",
       "        <a href=\"{{ link.1 }}\">{{ link.0 }}  </a>\n",
       "    </p>\n",
       "    {% endfor %}\n",
       "</div>```"
      ],
      "text/plain": [
       "<IPython.core.display.Markdown object>"
      ]
     },
     "execution_count": 8,
     "metadata": {},
     "output_type": "execute_result"
    }
   ],
   "source": [
    "code(\"/notebooks/static/sideleft.html\",\"html\")"
   ]
  }
 ],
 "metadata": {
  "kernelspec": {
   "display_name": "IPython (Python 3)",
   "name": "python3"
  },
  "language_info": {
   "codemirror_mode": {
    "name": "ipython",
    "version": 3
   },
   "file_extension": ".py",
   "mimetype": "text/x-python",
   "name": "python",
   "nbconvert_exporter": "python",
   "pygments_lexer": "ipython3",
   "version": "3.4.0"
  }
 },
 "nbformat": 4,
 "nbformat_minor": 0
}