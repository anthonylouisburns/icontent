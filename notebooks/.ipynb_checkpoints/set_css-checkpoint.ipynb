{
 "cells": [
  {
   "cell_type": "code",
   "execution_count": 1,
   "metadata": {
    "collapsed": false
   },
   "outputs": [
    {
     "name": "stdout",
     "output_type": "stream",
     "text": [
      "/root/.ipython\n"
     ]
    }
   ],
   "source": [
    "%%bash \n",
    "ipython locate"
   ]
  },
  {
   "cell_type": "code",
   "execution_count": 2,
   "metadata": {
    "collapsed": false
   },
   "outputs": [
    {
     "name": "stdout",
     "output_type": "stream",
     "text": [
      "Overwriting /root/.ipython/profile_default/static/custom/custom.css\n"
     ]
    }
   ],
   "source": [
    "%%file /root/.ipython/profile_default/static/custom/custom.css\n",
    "/**write your css in here**/\n",
    "/* like */\n",
    "\n",
    "<style>\n",
    "    div.cell{\n",
    "        max-width:750px;\n",
    "        margin-left:auto;\n",
    "        margin-right:auto;\n",
    "    }\n",
    "\n",
    "    h1 {\n",
    "        text-align:center;\n",
    "        color:navy;\n",
    "        font-familly:\"Charis SIL\", serif;\n",
    "    }\n",
    "</style>"
   ]
  },
  {
   "cell_type": "code",
   "execution_count": 3,
   "metadata": {
    "collapsed": false
   },
   "outputs": [
    {
     "name": "stdout",
     "output_type": "stream",
     "text": [
      "Overwriting /notebooks/html/custom.css\n"
     ]
    }
   ],
   "source": [
    "%%file /notebooks/html/custom.css\n",
    "body {\n",
    "    background-color: #c4ecc6;\n",
    "}\n",
    "\n",
    "h1 {\n",
    "    color: forestgreen;\n",
    "}"
   ]
  },
  {
   "cell_type": "code",
   "execution_count": 4,
   "metadata": {
    "collapsed": false
   },
   "outputs": [
    {
     "name": "stdout",
     "output_type": "stream",
     "text": [
      "Writing /notebooks/html/v2/custom.css\n"
     ]
    }
   ],
   "source": [
    "%%file /notebooks/html/v2/custom.css\n",
    "body {\n",
    "    background-color: navy;\n",
    "}\n",
    "\n",
    "h1 {\n",
    "    color: forestgreen;\n",
    "}"
   ]
  },
  {
   "cell_type": "code",
   "execution_count": null,
   "metadata": {
    "collapsed": true
   },
   "outputs": [],
   "source": []
  }
 ],
 "metadata": {
  "kernelspec": {
   "display_name": "IPython (Python 2)",
   "name": "python2"
  },
  "language_info": {
   "codemirror_mode": {
    "name": "ipython",
    "version": 2
   },
   "file_extension": ".py",
   "mimetype": "text/x-python",
   "name": "python",
   "nbconvert_exporter": "python",
   "pygments_lexer": "ipython2",
   "version": "2.7.6"
  }
 },
 "nbformat": 4,
 "nbformat_minor": 0
}