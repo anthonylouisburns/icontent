{
 "cells": [
  {
   "cell_type": "markdown",
   "metadata": {},
   "source": [
    "###Anthony Louis Burns\n",
    "<!---\n",
    "template=/notebooks/static/icontent.tpl\n",
    "\n",
    "css=/css/home.css\n",
    "\n",
    "sideleft=sideleft.html\n",
    "\n",
    "links=[[\"Anthony Louis Burns\", \"http://www.anthonylouisburns.com\", \"pad0\"], [\"IContent\", \"http://www.anthonylouisburns.com/icontent/IContent.html\", \"pad0\"], [\"IContent - github\", \"https://github.com/anthonylouisburns/icontent/\", \"pad0\"], [\"Anthony Louis Burn - LinkedIn\", \"https://www.linkedin.com/in/anthonylouisburns\", \"pad0\"]]\n",
    "--->\n",
    "\n",
    "I have a passion for making data excessible and intuitive to work with. In our modern economy so much of our time is spent analysising and preparing data for presentation.\n",
    "\n",
    "My current passion project is [IContent](http://www.anthonylouisburns.com/icontent/IContent.html). This project attempts  make preparing and presenting data with IPython and Docker easy and intuitive. I hope you enjoy it and look forward to any feedback.\n",
    "\n",
    "For more information about me feel free to checkout my [LinkedIn profile](https://www.linkedin.com/in/anthonylouisburns)."
   ]
  }
 ],
 "metadata": {
  "kernelspec": {
   "display_name": "IPython (Python 3)",
   "name": "python3"
  },
  "language_info": {
   "codemirror_mode": {
    "name": "ipython",
    "version": 3
   },
   "file_extension": ".py",
   "mimetype": "text/x-python",
   "name": "python",
   "nbconvert_exporter": "python",
   "pygments_lexer": "ipython3",
   "version": "3.4.0"
  }
 },
 "nbformat": 4,
 "nbformat_minor": 0
}