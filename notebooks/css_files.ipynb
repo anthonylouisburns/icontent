{
 "cells": [
  {
   "cell_type": "code",
   "execution_count": 3,
   "metadata": {
    "collapsed": true
   },
   "outputs": [],
   "source": [
    "from IPython.display import Markdown\n",
    "\n",
    "def code(file, code):   \n",
    "    return Markdown(\"```\"+code+\" \\n\" + ''.join((open(\"icontent/css/home.css\", \"r\").readlines())) + \"```\")"
   ]
  },
  {
   "cell_type": "code",
   "execution_count": 6,
   "metadata": {
    "collapsed": false
   },
   "outputs": [
    {
     "data": {
      "text/markdown": [
       "```css \n",
       "#sideleft {\n",
       "    float: left;\n",
       "    width: 15%;\n",
       "    min-height: 100%;\n",
       "    text-align: left;\n",
       "    padding:30px;\n",
       "    box-sizing: border-box;\n",
       "    -webkit-box-shadow: 0px 0px 12px 5px rgba(87, 87, 87, 0.2);\n",
       "    padding-top: 20px;\n",
       "    padding-bottom: 20px;\n",
       "}\n",
       "\n",
       "#main\n",
       "{\n",
       "    float: right;\n",
       "    text-align: left;\n",
       "    width: 70%;\n",
       "    margin-right: 15%;\n",
       "}\n",
       "#pad0\n",
       "{\n",
       "    padding: 10px;\n",
       "}\n",
       "#pad1\n",
       "{\n",
       "    text-indent: 20px;\n",
       "}\n",
       "body{\n",
       "}\n",
       "#notebook-container{\n",
       "}\n",
       "#sideleft a {\n",
       "    text-decoration: underline;\n",
       "}\n",
       "div.text_cell_render {\n",
       "\n",
       "}```"
      ],
      "text/plain": [
       "<IPython.core.display.Markdown object>"
      ]
     },
     "execution_count": 6,
     "metadata": {},
     "output_type": "execute_result"
    }
   ],
   "source": [
    "code(\"/icontent/css/home.css\",\"css\")"
   ]
  },
  {
   "cell_type": "markdown",
   "metadata": {
    "collapsed": true
   },
   "source": [
    "hello2"
   ]
  },
  {
   "cell_type": "code",
   "execution_count": null,
   "metadata": {
    "collapsed": true
   },
   "outputs": [],
   "source": []
  }
 ],
 "metadata": {
  "kernelspec": {
   "display_name": "IPython (Python 3)",
   "name": "python3"
  },
  "language_info": {
   "codemirror_mode": {
    "name": "ipython",
    "version": 3
   },
   "file_extension": ".py",
   "mimetype": "text/x-python",
   "name": "python",
   "nbconvert_exporter": "python",
   "pygments_lexer": "ipython3",
   "version": "3.4.0"
  }
 },
 "nbformat": 4,
 "nbformat_minor": 0
}