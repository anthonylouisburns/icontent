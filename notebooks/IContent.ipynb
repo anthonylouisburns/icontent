{
 "cells": [
  {
   "cell_type": "markdown",
   "metadata": {},
   "source": [
    "\n",
    "###IContent\n",
    "<!---\n",
    "template=/notebooks/static/icontent.tpl\n",
    "\n",
    "css=/css/home.css\n",
    "\n",
    "sideleft=sideleft.html\n",
    "\n",
    "links=[[\"Anthony Louis Burns\", \"/\", \"pad0\"], [\"IContent\", \"/icontent/IContent.html\", \"pad0\"], [\"standard\", \"/icontent/standard.html\", \"pad1\"], [\"Brazil\", \"/icontent/Brazil.html\", \"pad1\"], [\"Belguim\", \"/icontent/Belgium.html\", \"pad1\"], [\"Bahamas\", \"/icontent/Bahamas.html\", \"pad1\"], [\"obnoxious\", \"/icontent/obnoxious.html\", \"pad1\"], [\"IContent - github\", \"/icontent\", \"pad0\"], [\"Anthony Louis Burn - LinkedIn\", \"https://www.linkedin.com/in/anthonylouisburns\", \"pad0\"], [\"anthonylouisburns@gmail.com\", \"anthonylouisburns@gmail.com\", \"pad0\"]]\n",
    "--->\n"
   ]
  },
  {
   "cell_type": "markdown",
   "metadata": {},
   "source": [
    "This Website was developed using IContent, a system for using an IPython Notebook interface to generate static content. Please check out the examples, and feel free to share any feedback. "
   ]
  },
  {
   "cell_type": "markdown",
   "metadata": {},
   "source": [
    "To install or develop IContent please visit [IContent - github](https://github.com/anthonylouisburns/icontent)"
   ]
  },
  {
   "cell_type": "markdown",
   "metadata": {},
   "source": [
    "- Examples\n",
    " - [standard](/icontent/standard.html)\n",
    " - [Brazil](/icontent/Brazil.html)\n",
    " - [Belgium](/icontent/Belgium.html)\n",
    " - [Bahamas](/icontent/Bahamas.html)\n",
    " - [obnoxious](/icontent/obnoxious.html)"
   ]
  }
 ],
 "metadata": {
  "kernelspec": {
   "display_name": "IPython (Python 3)",
   "name": "python3"
  },
  "language_info": {
   "codemirror_mode": {
    "name": "ipython",
    "version": 3
   },
   "file_extension": ".py",
   "mimetype": "text/x-python",
   "name": "python",
   "nbconvert_exporter": "python",
   "pygments_lexer": "ipython3",
   "version": "3.4.0"
  }
 },
 "nbformat": 4,
 "nbformat_minor": 0
}