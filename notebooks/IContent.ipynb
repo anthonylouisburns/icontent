{
 "cells": [
  {
   "cell_type": "markdown",
   "metadata": {},
   "source": [
    "\n",
    "###IContent\n",
    "<!---\n",
    "template=/notebooks/static/itb.tpl\n",
    "\n",
    "css=/css/home.css\n",
    "\n",
    "sideleft=sideleft.html\n",
    "\n",
    "links=[[\"Anthony Louis Burns\", \"http://www.anthonylouisburns.com\", \"pad0\"], [\"IContent\", \"http://www.anthonylouisburns.com/icontent/IContent.html\", \"pad0\"], [\"IContent - github\", \"https://github.com/anthonylouisburns/icontent\", \"pad0\"], [\"Anthony Louis Burn - LinkedIn\", \"https://www.linkedin.com/in/anthonylouisburns\", \"pad0\"]]\n",
    "--->\n",
    "\n",
    "Checkout [IContent](https://github.com/anthonylouisburns/icontent) on github\n"
   ]
  }
 ],
 "metadata": {
  "kernelspec": {
   "display_name": "IPython (Python 3)",
   "name": "python3"
  },
  "language_info": {
   "codemirror_mode": {
    "name": "ipython",
    "version": 3
   },
   "file_extension": ".py",
   "mimetype": "text/x-python",
   "name": "python",
   "nbconvert_exporter": "python",
   "pygments_lexer": "ipython3",
   "version": "3.4.0"
  }
 },
 "nbformat": 4,
 "nbformat_minor": 0
}