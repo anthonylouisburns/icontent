{
 "cells": [
  {
   "cell_type": "markdown",
   "metadata": {},
   "source": [
    "**The following settings can be set in any Markdown cell in your notebook.**\n",
    "\n",
    "**They can also occur in a Markdown comment. Each setting should be on a seperate line**\n",
    "\n",
    "**If set more than once, the final occurence will override.**\n",
    "\n",
    "config_script=/notebooks/static/brazil.py\n",
    "\n",
    "css=[\"/css/home.css\",\"/css/brazil.css\"]\n",
    "\n",
    "sideleft=sideleft.html\n",
    "\n",
    "links=[[\"Anthony Louis Burns\", \"/\", \"pad0\"], [\"IContent\", \"/icontent/IContent.html\", \"pad0\"], [\"standard\", \"/icontent/standard.html\", \"pad1\"], [\"Brazil\", \"/icontent/Brazil.html\", \"pad1\"], [\"IContent - github\", \"https://github.com/anthonylouisburns/icontent\", \"pad0\"], [\"Anthony Louis Burn - LinkedIn\", \"https://www.linkedin.com/in/anthonylouisburns\", \"pad0\"], [\"anthonylouisburns@gmail.com\", \"anthonylouisburns@gmail.com\", \"pad0\"]]"
   ]
  },
  {
   "cell_type": "markdown",
   "metadata": {},
   "source": [
    "This notebook is largely the same as the standard notebook, but it adds an additional css file that changes the colors to those of the Brazilian flag."
   ]
  },
  {
   "cell_type": "markdown",
   "metadata": {},
   "source": [
    "It also changes the file that is called to set the configurations. This file than sets an additional preprocessor that adds a Brazilian flag to the end of each Markdown cell."
   ]
  },
  {
   "cell_type": "markdown",
   "metadata": {},
   "source": [
    "The config file also sets a different jinja template which adds the Brazil header to the file."
   ]
  },
  {
   "cell_type": "markdown",
   "metadata": {},
   "source": [
    "For detailed instructions and explanations please see the [IContent - github](https://github.com/anthonylouisburns/icontent)"
   ]
  },
  {
   "cell_type": "markdown",
   "metadata": {},
   "source": [
    "The conversion process is covered in [here](https://github.com/anthonylouisburns/icontent/blob/master/README.md#icontent-convert)\n"
   ]
  },
  {
   "cell_type": "markdown",
   "metadata": {},
   "source": [
    "The brazil example is covered [here](https://github.com/anthonylouisburns/icontent/blob/master/README.md#brazil-example) "
   ]
  },
  {
   "cell_type": "markdown",
   "metadata": {},
   "source": [
    "The standard example is covered [here](https://github.com/anthonylouisburns/icontent/blob/master/README.md#standard-example)"
   ]
  },
  {
   "cell_type": "markdown",
   "metadata": {},
   "source": [
    "To install or develop IContent please visit [IContent - github](https://github.com/anthonylouisburns/icontent)\n",
    "- Examples\n",
    " - [standard](/icontent/standard.html)\n",
    " - [Brazil](/icontent/Brazil.html)"
   ]
  }
 ],
 "metadata": {
  "kernelspec": {
   "display_name": "IPython (Python 3)",
   "name": "python3"
  },
  "language_info": {
   "codemirror_mode": {
    "name": "ipython",
    "version": 3
   },
   "file_extension": ".py",
   "mimetype": "text/x-python",
   "name": "python",
   "nbconvert_exporter": "python",
   "pygments_lexer": "ipython3",
   "version": "3.4.0"
  }
 },
 "nbformat": 4,
 "nbformat_minor": 0
}